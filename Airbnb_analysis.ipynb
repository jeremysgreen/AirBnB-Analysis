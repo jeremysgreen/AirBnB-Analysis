{
  "cells": [
    {
      "cell_type": "markdown",
      "id": "1d22aa5d",
      "metadata": {
        "id": "1d22aa5d"
      },
      "source": [
        "# AirBnB Seasonal Trend Analysis\n",
        "\n",
        "Sean Bowen, Bates Crowther, Jeremy Green, Charlie Rudy, and Aidan Price"
      ]
    },
    {
      "cell_type": "code",
      "execution_count": null,
      "id": "a215d9d4",
      "metadata": {
        "scrolled": true,
        "id": "a215d9d4",
        "outputId": "92b26021-23f8-47e2-9630-9d6723fd39c7"
      },
      "outputs": [
        {
          "data": {
            "text/html": [
              "Current session configs: <tt>{'executorMemory': '2G', 'driverMemory': '1G', 'executorCores': 2, 'numExecutors': 20, 'conf': {'spark.dynamicAllocation.enabled': 'false', 'spark.pyspark.python': 'python3', 'spark.pyspark.virtualenv.enabled': 'true', 'spark.pyspark.virtualenv.type': 'native', 'spark.pyspark.virtualenv.bin.path': '/usr/bin/virtualenv'}, 'proxyUser': 'team9', 'kind': 'pyspark'}</tt><br>"
            ],
            "text/plain": [
              "<IPython.core.display.HTML object>"
            ]
          },
          "metadata": {},
          "output_type": "display_data"
        },
        {
          "data": {
            "text/html": [
              "No active sessions."
            ],
            "text/plain": [
              "<IPython.core.display.HTML object>"
            ]
          },
          "metadata": {},
          "output_type": "display_data"
        }
      ],
      "source": [
        "%%configure -f\n",
        "{\"executorMemory\": \"2G\",\"driverMemory\":\"1G\",\"executorCores\": 2,\"numExecutors\": 20, \n",
        " \"conf\": {\"spark.dynamicAllocation.enabled\": \"false\", \n",
        "          \"spark.pyspark.python\": \"python3\",\n",
        "          \"spark.pyspark.virtualenv.enabled\": \"true\",\n",
        "          \"spark.pyspark.virtualenv.type\": \"native\",\n",
        "          \"spark.pyspark.virtualenv.bin.path\": \"/usr/bin/virtualenv\"}}"
      ]
    },
    {
      "cell_type": "markdown",
      "id": "c6f1b988",
      "metadata": {
        "id": "c6f1b988"
      },
      "source": [
        "# Creating AirBnB Dataset\n",
        "\n",
        "Cities used in our analysis: Boston, Washington DC, San Diego, Denver, New Orleans, and Nashville\n",
        "\n",
        "For each city we we used the following datasets: Calendar.csv and listings.csv\n",
        "\n",
        "Steps taken:\n",
        "\n",
        "1) Joined the calendar and listings files together for each city\n",
        "\n",
        "2) Unionized all data to create a dataframe called airbnb"
      ]
    },
    {
      "cell_type": "code",
      "execution_count": null,
      "id": "a91d40fe",
      "metadata": {
        "id": "a91d40fe"
      },
      "outputs": [],
      "source": [
        "from pyspark.sql.functions import *"
      ]
    },
    {
      "cell_type": "code",
      "execution_count": null,
      "id": "e366acb0",
      "metadata": {
        "scrolled": true,
        "id": "e366acb0"
      },
      "outputs": [],
      "source": [
        "%%pretty\n",
        "denverListing = spark.read.format(\"csv\").load('s3://msbx5420-spr23/team9/listings_Denver.csv', header = True)\n",
        "denverListing = denverListing.withColumn(\"location\", lit(\"Denver\"))\n",
        "denverListing = denverListing.withColumnRenamed('id', 'listing_id')\n",
        "# denverListing.show()"
      ]
    },
    {
      "cell_type": "code",
      "execution_count": null,
      "id": "edeefa37",
      "metadata": {
        "id": "edeefa37"
      },
      "outputs": [],
      "source": [
        "%%pretty\n",
        "NewOrleansListing = spark.read.format(\"csv\").load('s3://msbx5420-spr23/team9/listings_NewOrleans.csv', header = True)\n",
        "NewOrleansListing = NewOrleansListing.withColumn(\"location\", lit(\"New Orleans\"))\n",
        "NewOrleansListing = NewOrleansListing.withColumnRenamed('id', 'listing_id')\n",
        "#NewOrleansListing.show()"
      ]
    },
    {
      "cell_type": "code",
      "execution_count": null,
      "id": "3849ddaa",
      "metadata": {
        "scrolled": true,
        "id": "3849ddaa"
      },
      "outputs": [],
      "source": [
        "%%pretty\n",
        "NashvilleListing = spark.read.format(\"csv\").load('s3://msbx5420-spr23/team9/listings_Nashville.csv', header = True)\n",
        "NashvilleListing = NashvilleListing.withColumn(\"location\", lit(\"Nashville\"))\n",
        "NashvilleListing = NashvilleListing.withColumnRenamed('id', 'listing_id')\n",
        "# NashvilleListing.show()"
      ]
    },
    {
      "cell_type": "code",
      "execution_count": null,
      "id": "38daf9ac",
      "metadata": {
        "id": "38daf9ac"
      },
      "outputs": [],
      "source": [
        "%%pretty\n",
        "DCListing = spark.read.format(\"csv\").load('s3://msbx5420-spr23/team9/listings_DC.csv', header = True)\n",
        "DCListing = DCListing.withColumn(\"location\", lit(\"DC\"))\n",
        "DCListing = DCListing.withColumnRenamed('id', 'listing_id')\n",
        "#DCListing.show()"
      ]
    },
    {
      "cell_type": "code",
      "execution_count": null,
      "id": "05c50f48",
      "metadata": {
        "id": "05c50f48"
      },
      "outputs": [],
      "source": [
        "%%pretty\n",
        "SanDiegoListing = spark.read.format(\"csv\").load('s3://msbx5420-spr23/team9/listings_SanDiego.csv', header = True)\n",
        "SanDiegoListing = SanDiegoListing.withColumn(\"location\", lit(\"San Diego\"))\n",
        "SanDiegoListing = SanDiegoListing.withColumnRenamed('id', 'listing_id')\n",
        "#SanDiegoListing.show()"
      ]
    },
    {
      "cell_type": "code",
      "execution_count": null,
      "id": "4274a54a",
      "metadata": {
        "id": "4274a54a"
      },
      "outputs": [],
      "source": [
        "%%pretty\n",
        "BostonListing = spark.read.format(\"csv\").load('s3://msbx5420-spr23/team9/listings_boston.csv', header = True)\n",
        "BostonListing = BostonListing.withColumn(\"location\", lit(\"Boston\"))\n",
        "BostonListing = BostonListing.withColumnRenamed('id', 'listing_id')\n",
        "#BostonListing.show()"
      ]
    },
    {
      "cell_type": "markdown",
      "id": "aa290ffd",
      "metadata": {
        "id": "aa290ffd"
      },
      "source": [
        "Loading in the calendars "
      ]
    },
    {
      "cell_type": "code",
      "execution_count": null,
      "id": "743e72b4",
      "metadata": {
        "id": "743e72b4"
      },
      "outputs": [],
      "source": [
        "%%pretty\n",
        "DenverCalendar = spark.read.format(\"csv\").load('s3://msbx5420-spr23/team9/calendar_Denver.csv', header = True)\n",
        "DenverCalendar = DenverCalendar.dropDuplicates(subset=['listing_id'])\n",
        "#DenverCalendar.show()"
      ]
    },
    {
      "cell_type": "code",
      "execution_count": null,
      "id": "0972a960",
      "metadata": {
        "id": "0972a960"
      },
      "outputs": [],
      "source": [
        "%%pretty\n",
        "joined_denver = DenverCalendar.join(denverListing, on='listing_id', how='inner')\n",
        "#joined_denver.show()"
      ]
    },
    {
      "cell_type": "code",
      "execution_count": null,
      "id": "f3d32a3a",
      "metadata": {
        "scrolled": true,
        "id": "f3d32a3a"
      },
      "outputs": [],
      "source": [
        "%%pretty\n",
        "NewOrleansCalendar = spark.read.format(\"csv\").load('s3://msbx5420-spr23/team9/calendar_NewOrleans.csv', header = True)\n",
        "NewOrleansCalendar = NewOrleansCalendar.dropDuplicates(subset=['listing_id'])\n",
        "# NewOrleansCalendar.show()"
      ]
    },
    {
      "cell_type": "code",
      "execution_count": null,
      "id": "754b73c2",
      "metadata": {
        "id": "754b73c2"
      },
      "outputs": [],
      "source": [
        "%%pretty\n",
        "joined_newOrleans = NewOrleansCalendar.join(NewOrleansListing, on='listing_id', how='inner')\n",
        "# joined_newOrleans.show()"
      ]
    },
    {
      "cell_type": "code",
      "execution_count": null,
      "id": "70fe346d",
      "metadata": {
        "id": "70fe346d"
      },
      "outputs": [],
      "source": [
        "%%pretty\n",
        "NashvilleCalendar = spark.read.format(\"csv\").load('s3://msbx5420-spr23/team9/calendar_Nashville.csv', header = True)\n",
        "NashvilleCalendar = NashvilleCalendar.dropDuplicates(subset=['listing_id'])\n",
        "#NashvilleCalendar.show()"
      ]
    },
    {
      "cell_type": "code",
      "execution_count": null,
      "id": "4697222d",
      "metadata": {
        "id": "4697222d"
      },
      "outputs": [],
      "source": [
        "%%pretty\n",
        "joined_Nashville = NashvilleCalendar.join(NashvilleListing, on='listing_id', how='inner')\n",
        "#joined_Nashville.show()"
      ]
    },
    {
      "cell_type": "code",
      "execution_count": null,
      "id": "bc98baf0",
      "metadata": {
        "id": "bc98baf0"
      },
      "outputs": [],
      "source": [
        "%%pretty\n",
        "DCCalendar = spark.read.format(\"csv\").load('s3://msbx5420-spr23/team9/calendar_DC.csv', header = True)\n",
        "DCCalendar = DCCalendar.dropDuplicates(subset=['listing_id'])\n",
        "#DCCalendar.show()"
      ]
    },
    {
      "cell_type": "code",
      "execution_count": null,
      "id": "b9672332",
      "metadata": {
        "id": "b9672332"
      },
      "outputs": [],
      "source": [
        "%%pretty\n",
        "joined_DC = DCCalendar.join(DCListing, on='listing_id', how='inner')\n",
        "#joined_DC.show()"
      ]
    },
    {
      "cell_type": "code",
      "execution_count": null,
      "id": "e6fb064e",
      "metadata": {
        "scrolled": true,
        "id": "e6fb064e"
      },
      "outputs": [],
      "source": [
        "%%pretty\n",
        "SanDiegoCalendar = spark.read.format(\"csv\").load('s3://msbx5420-spr23/team9/calendar_SanDiego.csv', header = True)\n",
        "SanDiegoCalendar = SanDiegoCalendar.dropDuplicates(subset=['listing_id'])\n",
        "#SanDiegoCalendar.show()"
      ]
    },
    {
      "cell_type": "code",
      "execution_count": null,
      "id": "1f35706c",
      "metadata": {
        "id": "1f35706c"
      },
      "outputs": [],
      "source": [
        "%%pretty\n",
        "joined_SanDiego = SanDiegoCalendar.join(SanDiegoListing, on='listing_id', how='inner')\n",
        "#joined_SanDiego.show()"
      ]
    },
    {
      "cell_type": "code",
      "execution_count": null,
      "id": "b8e63618",
      "metadata": {
        "id": "b8e63618"
      },
      "outputs": [],
      "source": [
        "%%pretty\n",
        "BostonCalendar = spark.read.format(\"csv\").load('s3://msbx5420-spr23/team9/calendar_Boston.csv', header = True)\n",
        "BostonCalendar = BostonCalendar.dropDuplicates(subset=['listing_id'])\n",
        "#BostonCalendar.show()"
      ]
    },
    {
      "cell_type": "code",
      "execution_count": null,
      "id": "40ea380a",
      "metadata": {
        "scrolled": false,
        "id": "40ea380a"
      },
      "outputs": [],
      "source": [
        "%%pretty\n",
        "joined_boston = BostonCalendar.join(BostonListing, on='listing_id', how='inner')\n",
        "#joined_boston.show()"
      ]
    },
    {
      "cell_type": "code",
      "execution_count": null,
      "id": "3f7d7163",
      "metadata": {
        "scrolled": true,
        "id": "3f7d7163"
      },
      "outputs": [],
      "source": [
        "%%pretty\n",
        "\n",
        "airbnb = joined_denver.union(joined_newOrleans).union(joined_Nashville).union(joined_DC).union(joined_SanDiego).union(joined_boston)\n",
        "\n",
        "airbnb.show()"
      ]
    },
    {
      "cell_type": "markdown",
      "id": "babe5e7e",
      "metadata": {
        "id": "babe5e7e"
      },
      "source": [
        "# Data Cleaning\n",
        "\n",
        "Only included:\n",
        "\n",
        "- Entire Homes and Apartments (Excluded private rooms)\n",
        "\n",
        "- AirBnB's available for 3 months or more (Excluded any that we only available for one season)\n",
        "\n",
        "Added the following columns: Year, Month, Week, and Season"
      ]
    },
    {
      "cell_type": "code",
      "execution_count": null,
      "id": "8e29552a",
      "metadata": {
        "scrolled": true,
        "id": "8e29552a"
      },
      "outputs": [],
      "source": [
        "%%pretty\n",
        "\n",
        "clean = airbnb.filter(col('room_type') == \"Entire home/apt\")\n",
        "clean = clean.filter(col('availability_365') > 72)\n",
        "\n",
        "clean = clean.withColumn(\"adjusted_price\", regexp_replace(\"adjusted_price\", \"\\\\$\", \"\").cast(\"float\"))\n",
        "\n",
        "# Create year and month columns\n",
        "year_month = airbnb.select(year(airbnb.date).alias('year'), month(airbnb.date).alias('month'),\\\n",
        "                           weekofyear(airbnb.date).alias(\"week\"))\n",
        "clean = clean.join(year_month)\n",
        "\n",
        "# Create a season column\n",
        "seasons = {\n",
        "        'Winter': [12, 1, 2],\n",
        "        'Spring': [3, 4, 5],\n",
        "        'Summer': [6, 7, 8],\n",
        "        'Fall': [9, 10, 11]\n",
        "        }\n",
        "\n",
        "# Create a new column with the season based on the month\n",
        "clean = clean.withColumn('season', \n",
        "                         when(col('month').isin(seasons['Winter']), 'Winter')\n",
        "                         .when(col('month').isin(seasons['Spring']), 'Spring')\n",
        "                         .when(col('month').isin(seasons['Summer']), 'Summer')\n",
        "                         .otherwise('Fall'))\n",
        "\n",
        "clean.show()"
      ]
    },
    {
      "cell_type": "code",
      "execution_count": null,
      "id": "841d20bb",
      "metadata": {
        "id": "841d20bb"
      },
      "outputs": [],
      "source": [
        "%%pretty \n",
        "# By City\n",
        "avg_by_city = clean.groupBy('location').agg(mean(\"adjusted_price\").alias(\"avg_price\"),\\\n",
        "                                                              mean('number_of_reviews').alias('avg_reviews'),\\\n",
        "                                                              mean('availability_365').alias('avg_availability'))\\\n",
        "                                                              .orderBy('location')\n",
        "\n",
        "\n",
        "avg_occupancy_rate = clean.groupBy(\"location\").agg((1 - (mean('availability_365') / 365))\\\n",
        "                                                         .alias(\"avg_occupancy_rate\"))\n",
        "\n",
        "avg_by_city = avg_by_city.join(avg_occupancy_rate, on=\"location\")\n",
        "avg_by_city.show(truncate=False)"
      ]
    },
    {
      "cell_type": "code",
      "execution_count": null,
      "id": "b5ed61ec",
      "metadata": {
        "id": "b5ed61ec"
      },
      "outputs": [],
      "source": [
        "%%pretty\n",
        "\n",
        "# By Location & Season\n",
        "avg_by_loc_season = clean.groupBy([\"location\", \"season\"]).agg(mean(\"adjusted_price\").alias(\"avg_price\"),\\\n",
        "                                                              mean('number_of_reviews').alias('avg_reviews'),\\\n",
        "                                                              mean('availability_365').alias('avg_availability'))\\\n",
        "                                                              .orderBy('location','season')\n",
        "\n",
        "\n",
        "avg_occupancy_rate = clean.groupBy([\"location\",\"season\"]).agg((1 - (mean('availability_365') / 365))\\\n",
        "                                                         .alias(\"avg_occupancy_rate\"))\n",
        "\n",
        "avg_by_loc_season = avg_by_loc_season.join(avg_occupancy_rate, on=[\"location\",\"season\"])\n",
        "avg_by_loc_season.show(truncate=False)"
      ]
    },
    {
      "cell_type": "code",
      "execution_count": null,
      "id": "21be6831",
      "metadata": {
        "id": "21be6831"
      },
      "outputs": [],
      "source": [
        "%%pretty\n",
        "\n",
        "#By Location & Week\n",
        "avg_by_loc_week = clean.groupBy([\"neighbourhood\", \"week\"]).agg(mean(\"adjusted_price\").alias(\"avg_price\"),\\\n",
        "                                                              mean('number_of_reviews').alias('avg_reviews'),\\\n",
        "                                                              mean('availability_365').alias('avg_availability'))\\\n",
        "                                                              .orderBy('neighbourhood','week')\n",
        "\n",
        "\n",
        "avg_occupancy_rate = clean.groupBy([\"neighbourhood\",\"week\"]).agg((1 - (mean('availability_365') / 365))\\\n",
        "                                                         .alias(\"avg_occupancy_rate\"))\n",
        "\n",
        "avg_by_loc_week = avg_by_loc_week.join(avg_occupancy_rate, on=[\"neighbourhood\",\"week\"])\n",
        "avg_by_loc_week.show(truncate=False)"
      ]
    },
    {
      "cell_type": "markdown",
      "id": "31d7bfde",
      "metadata": {
        "id": "31d7bfde"
      },
      "source": [
        "## Filtered By City"
      ]
    },
    {
      "cell_type": "code",
      "execution_count": null,
      "id": "61b9025e",
      "metadata": {
        "id": "61b9025e"
      },
      "outputs": [],
      "source": [
        "%%pretty\n",
        "# Overview\n",
        "\n",
        "\n",
        "avg_by_city = clean.groupBy(\"location\").agg(mean(\"adjusted_price\").alias(\"avg_price\"),\\\n",
        "                                                              mean('number_of_reviews').alias('avg_reviews'),\\\n",
        "                                                              mean('availability_365').alias('avg_availability'))\\\n",
        "                                                              .orderBy('location')\n",
        "avg_occupancy_rate = clean.groupBy(\"location\").agg((1 - (mean('availability_365') / 365))\\\n",
        "                                                         .alias(\"avg_occupancy_rate\"))\n",
        "\n",
        "avg_by_city = avg_by_city.join(avg_occupancy_rate, on=\"location\")\n",
        "avg_by_city.show(truncate=False)"
      ]
    },
    {
      "cell_type": "code",
      "execution_count": null,
      "id": "5c842450",
      "metadata": {
        "scrolled": true,
        "id": "5c842450"
      },
      "outputs": [],
      "source": [
        "%%pretty\n",
        "# New Orleans Seasons\n",
        "\n",
        "newOrleans = avg_by_loc_season.filter(col(\"location\")==\"New Orleans\").orderBy('location')\n",
        "newOrleans.show()"
      ]
    },
    {
      "cell_type": "code",
      "execution_count": null,
      "id": "2b786ba6",
      "metadata": {
        "id": "2b786ba6"
      },
      "outputs": [],
      "source": [
        "%%pretty\n",
        "# Boston Seasons\n",
        "\n",
        "boston = avg_by_loc_season.filter(col(\"location\")==\"Boston\").orderBy('location')\n",
        "boston.show()"
      ]
    },
    {
      "cell_type": "code",
      "execution_count": null,
      "id": "fa6f74ba",
      "metadata": {
        "id": "fa6f74ba"
      },
      "outputs": [],
      "source": [
        "%%pretty\n",
        "# Denver Seasons\n",
        "\n",
        "denver = avg_by_loc_season.filter(col(\"location\")==\"Denver\").orderBy('location')\n",
        "denver.show()"
      ]
    },
    {
      "cell_type": "code",
      "execution_count": null,
      "id": "d49e0977",
      "metadata": {
        "id": "d49e0977"
      },
      "outputs": [],
      "source": [
        "%%pretty\n",
        "# Nashville Seasons\n",
        "\n",
        "nashville = avg_by_loc_season.filter(col(\"location\")==\"Nashville\").orderBy('location')\n",
        "nashville.show()"
      ]
    },
    {
      "cell_type": "code",
      "execution_count": null,
      "id": "d9227d94",
      "metadata": {
        "id": "d9227d94"
      },
      "outputs": [],
      "source": [
        "%%pretty\n",
        "# DC Seasons\n",
        "\n",
        "dc = avg_by_loc_season.filter(col(\"location\")==\"DC\").orderBy('location')\n",
        "dc.show()"
      ]
    },
    {
      "cell_type": "code",
      "execution_count": null,
      "id": "5790f68b",
      "metadata": {
        "id": "5790f68b"
      },
      "outputs": [],
      "source": [
        "%%pretty\n",
        "# San Diego Seasons\n",
        "\n",
        "sanDiego = avg_by_loc_season.filter(col(\"location\")==\"San Diego\").orderBy('location')\n",
        "sanDiego.show()"
      ]
    },
    {
      "cell_type": "markdown",
      "id": "180405be",
      "metadata": {
        "id": "180405be"
      },
      "source": [
        "## Filtered By Season"
      ]
    },
    {
      "cell_type": "code",
      "execution_count": null,
      "id": "fffdfd0e",
      "metadata": {
        "id": "fffdfd0e"
      },
      "outputs": [],
      "source": [
        "%%pretty\n",
        "# Overview\n",
        "\n",
        "\n",
        "avg_by_season = clean.groupBy(\"season\").agg(mean(\"adjusted_price\").alias(\"avg_price\"),\\\n",
        "                                                              mean('number_of_reviews').alias('avg_reviews'),\\\n",
        "                                                              mean('availability_365').alias('avg_availability'))\\\n",
        "                                                              .orderBy('season')\n",
        "avg_occupancy_rate = clean.groupBy(\"season\").agg((1 - (mean('availability_365') / 365))\\\n",
        "                                                         .alias(\"avg_occupancy_rate\"))\n",
        "\n",
        "avg_by_season = avg_by_season.join(avg_occupancy_rate, on=\"season\")\n",
        "avg_by_season.show(truncate=False)"
      ]
    },
    {
      "cell_type": "code",
      "execution_count": null,
      "id": "2af43b7b",
      "metadata": {
        "id": "2af43b7b"
      },
      "outputs": [],
      "source": [
        "%%pretty\n",
        "\n",
        "summer = avg_by_loc_season.filter(col(\"season\") == 'Summer').orderBy(\"avg_occupancy_rate\", ascending = False)\n",
        "summer.show()"
      ]
    },
    {
      "cell_type": "code",
      "execution_count": null,
      "id": "a0931831",
      "metadata": {
        "id": "a0931831"
      },
      "outputs": [],
      "source": [
        "%%pretty\n",
        "\n",
        "fall = avg_by_loc_season.filter(col(\"season\") == 'Fall').orderBy(\"avg_occupancy_rate\", ascending = False)\n",
        "fall.show()"
      ]
    },
    {
      "cell_type": "code",
      "execution_count": null,
      "id": "a6441b2b",
      "metadata": {
        "id": "a6441b2b"
      },
      "outputs": [],
      "source": [
        "%%pretty\n",
        "\n",
        "winter = avg_by_loc_season.filter(col(\"season\") == 'Winter').orderBy(\"avg_occupancy_rate\", ascending = False)\n",
        "winter.show()"
      ]
    },
    {
      "cell_type": "code",
      "execution_count": null,
      "id": "bcc7baaa",
      "metadata": {
        "id": "bcc7baaa"
      },
      "outputs": [],
      "source": [
        "%%pretty\n",
        "\n",
        "spring = avg_by_loc_season.filter(col(\"season\") == 'Spring').orderBy(\"avg_occupancy_rate\", ascending = False)\n",
        "spring.show()"
      ]
    },
    {
      "cell_type": "markdown",
      "id": "960b2de3",
      "metadata": {
        "id": "960b2de3"
      },
      "source": [
        "## By Month"
      ]
    },
    {
      "cell_type": "code",
      "execution_count": null,
      "id": "0fb5b0b5",
      "metadata": {
        "id": "0fb5b0b5"
      },
      "outputs": [],
      "source": [
        "%%pretty\n",
        "\n",
        "# Overall by Season\n",
        "avg_by_month_loc = clean.groupBy(['month','location']).agg(mean(\"adjusted_price\").alias(\"avg_price\"),\\\n",
        "                                              mean('number_of_reviews').alias('avg_reviews'),\\\n",
        "                                              mean('availability_365').alias('avg_availability'))\\\n",
        "                                              .orderBy(['month','location'])\n",
        "avg_occupancy_rate = clean.groupBy([\"month\",'location']).agg((1 - (mean('availability_365') / 365))\\\n",
        "                                                         .alias(\"avg_occupancy_rate\"))\n",
        "\n",
        "avg_by_month_loc = avg_by_month_loc.join(avg_occupancy_rate, on=[\"month\",'location'])\n",
        "avg_by_month_loc.show(truncate=False)"
      ]
    },
    {
      "cell_type": "code",
      "execution_count": null,
      "id": "2644ba21",
      "metadata": {
        "id": "2644ba21"
      },
      "outputs": [],
      "source": [
        "%%pretty\n",
        "jan = avg_by_month_loc.filter(col(\"month\")==1).orderBy('avg_occupancy_rate', ascending = False)\n",
        "jan.show()"
      ]
    },
    {
      "cell_type": "code",
      "execution_count": null,
      "id": "1f14caa7",
      "metadata": {
        "id": "1f14caa7"
      },
      "outputs": [],
      "source": [
        "%%pretty\n",
        "feb = avg_by_month_loc.filter(col(\"month\")==2).orderBy('avg_occupancy_rate', ascending = False)\n",
        "feb.show()"
      ]
    },
    {
      "cell_type": "code",
      "execution_count": null,
      "id": "bd4c8ade",
      "metadata": {
        "id": "bd4c8ade"
      },
      "outputs": [],
      "source": [
        "%%pretty\n",
        "mar = avg_by_month_loc.filter(col(\"month\")==3).orderBy('avg_occupancy_rate', ascending = False)\n",
        "mar.show()"
      ]
    },
    {
      "cell_type": "code",
      "execution_count": null,
      "id": "2606a194",
      "metadata": {
        "id": "2606a194"
      },
      "outputs": [],
      "source": [
        "%%pretty\n",
        "apr = avg_by_month_loc.filter(col('month')==4).orderBy('avg_occupancy_rate', ascending = False)\n",
        "apr.show()"
      ]
    },
    {
      "cell_type": "code",
      "execution_count": null,
      "id": "5f851741",
      "metadata": {
        "id": "5f851741"
      },
      "outputs": [],
      "source": [
        "%%pretty\n",
        "may = avg_by_month_loc.filter(col('month')==5).orderBy('avg_occupancy_rate', ascending = False)\n",
        "may.show()"
      ]
    },
    {
      "cell_type": "code",
      "execution_count": null,
      "id": "4445f0aa",
      "metadata": {
        "id": "4445f0aa"
      },
      "outputs": [],
      "source": [
        "%%pretty\n",
        "jun = avg_by_month_loc.filter(col('month')==6).orderBy('avg_occupancy_rate', ascending = False)\n",
        "jun.show()"
      ]
    },
    {
      "cell_type": "code",
      "execution_count": null,
      "id": "fae17a61",
      "metadata": {
        "id": "fae17a61"
      },
      "outputs": [],
      "source": [
        "%%pretty\n",
        "jul = avg_by_month_loc.filter(col('month')==7).orderBy('avg_occupancy_rate', ascending = False)\n",
        "jul.show()"
      ]
    },
    {
      "cell_type": "code",
      "execution_count": null,
      "id": "ae00f592",
      "metadata": {
        "id": "ae00f592"
      },
      "outputs": [],
      "source": [
        "%%pretty\n",
        "aug = avg_by_month_loc.filter(col('month')==8).orderBy('avg_occupancy_rate', ascending = False)\n",
        "aug.show()"
      ]
    },
    {
      "cell_type": "code",
      "execution_count": null,
      "id": "b1540ec1",
      "metadata": {
        "id": "b1540ec1"
      },
      "outputs": [],
      "source": [
        "%%pretty\n",
        "sept = avg_by_month_loc.filter(col('month')==9).orderBy('avg_occupancy_rate', ascending = False)\n",
        "sept.show()"
      ]
    },
    {
      "cell_type": "code",
      "execution_count": null,
      "id": "2125db68",
      "metadata": {
        "id": "2125db68"
      },
      "outputs": [],
      "source": [
        "%%pretty\n",
        "octb = avg_by_month_loc.filter(col('month')==10).orderBy('avg_occupancy_rate', ascending = False)\n",
        "octb.show()"
      ]
    },
    {
      "cell_type": "code",
      "execution_count": null,
      "id": "11001658",
      "metadata": {
        "id": "11001658"
      },
      "outputs": [],
      "source": [
        "%%pretty\n",
        "nov = avg_by_month_loc.filter(col('month')==11).orderBy('avg_occupancy_rate', ascending = False)\n",
        "nov.show()"
      ]
    },
    {
      "cell_type": "code",
      "execution_count": null,
      "id": "d6ab2244",
      "metadata": {
        "id": "d6ab2244"
      },
      "outputs": [],
      "source": [
        "%%pretty\n",
        "dec = avg_by_month_loc.filter(col('month')==12).orderBy('avg_occupancy_rate', ascending = False)\n",
        "dec.show()"
      ]
    },
    {
      "cell_type": "code",
      "execution_count": null,
      "id": "0c1df52a",
      "metadata": {
        "id": "0c1df52a"
      },
      "outputs": [],
      "source": [
        "%%pretty\n",
        "\n",
        "# Denver - Most popular city by month\n",
        "denver_month = avg_by_month_loc.filter(col('location')=='Denver').orderBy('month')\n",
        "denver_month.show()"
      ]
    }
  ],
  "metadata": {
    "kernelspec": {
      "display_name": "PySpark",
      "language": "python",
      "name": "pysparkkernel"
    },
    "language_info": {
      "codemirror_mode": {
        "name": "python",
        "version": 3
      },
      "file_extension": ".py",
      "mimetype": "text/x-python",
      "name": "pyspark",
      "pygments_lexer": "python3"
    },
    "colab": {
      "provenance": []
    }
  },
  "nbformat": 4,
  "nbformat_minor": 5
}